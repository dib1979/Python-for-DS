{
 "cells": [
  {
   "cell_type": "markdown",
   "metadata": {
    "toc": true
   },
   "source": [
    "<h1>Table of Contents<span class=\"tocSkip\"></span></h1>\n",
    "<div class=\"toc\"><ul class=\"toc-item\"><li><span><a href=\"#Which-of-these-crops-were-produced-during-the-Autumn-season?-(select-option-with-all-that-apply)\" data-toc-modified-id=\"Which-of-these-crops-were-produced-during-the-Autumn-season?-(select-option-with-all-that-apply)-1\"><span class=\"toc-item-num\">1&nbsp;&nbsp;</span>Which of these crops were produced during the Autumn season? (select option with all that apply)</a></span></li><li><span><a href=\"#During-which-year,-Uttar-Pradesh-had-the-highest-crop-production?\" data-toc-modified-id=\"During-which-year,-Uttar-Pradesh-had-the-highest-crop-production?-2\"><span class=\"toc-item-num\">2&nbsp;&nbsp;</span>During which year, Uttar Pradesh had the highest crop production?</a></span></li><li><span><a href=\"#The-maximum-and-minimum-area-used-for-production-were-in-the-years-__\" data-toc-modified-id=\"The-maximum-and-minimum-area-used-for-production-were-in-the-years-__-3\"><span class=\"toc-item-num\">3&nbsp;&nbsp;</span>The maximum and minimum area used for production were in the years __</a></span></li><li><span><a href=\"#Which-state-in-India-had-the-lowest-crop-production?-(overall,-for-all-years)\" data-toc-modified-id=\"Which-state-in-India-had-the-lowest-crop-production?-(overall,-for-all-years)-4\"><span class=\"toc-item-num\">4&nbsp;&nbsp;</span>Which state in India had the lowest crop production? (overall, for all years)</a></span></li><li><span><a href=\"#What-were-the-top-three-produced-crops-in-the-year-2015?\" data-toc-modified-id=\"What-were-the-top-three-produced-crops-in-the-year-2015?-5\"><span class=\"toc-item-num\">5&nbsp;&nbsp;</span>What were the top three produced crops in the year 2015?</a></span></li><li><span><a href=\"#What-is-the-standard-deviation-for-Area-of-production?\" data-toc-modified-id=\"What-is-the-standard-deviation-for-Area-of-production?-6\"><span class=\"toc-item-num\">6&nbsp;&nbsp;</span>What is the standard deviation for Area of production?</a></span></li><li><span><a href=\"#Which-is-the-crop-that-gave-highest-production-to-the-state-Madhya-Pradesh?\" data-toc-modified-id=\"Which-is-the-crop-that-gave-highest-production-to-the-state-Madhya-Pradesh?-7\"><span class=\"toc-item-num\">7&nbsp;&nbsp;</span>Which is the crop that gave highest production to the state Madhya Pradesh?</a></span></li><li><span><a href=\"#Which-of-the-following-statements-is-true?-(Select-all-that-applies)\" data-toc-modified-id=\"Which-of-the-following-statements-is-true?-(Select-all-that-applies)-8\"><span class=\"toc-item-num\">8&nbsp;&nbsp;</span>Which of the following statements is true? (Select all that applies)</a></span></li><li><span><a href=\"#Which-state-had-the-highest-area-of-production?\" data-toc-modified-id=\"Which-state-had-the-highest-area-of-production?-9\"><span class=\"toc-item-num\">9&nbsp;&nbsp;</span>Which state had the highest area of production?</a></span></li><li><span><a href=\"#What-is-the-mean-for-area-of-production?\" data-toc-modified-id=\"What-is-the-mean-for-area-of-production?-10\"><span class=\"toc-item-num\">10&nbsp;&nbsp;</span>What is the mean for area of production?</a></span></li><li><span><a href=\"#What-is-the-correlation-coefficient-between-Area-and-Production?\" data-toc-modified-id=\"What-is-the-correlation-coefficient-between-Area-and-Production?-11\"><span class=\"toc-item-num\">11&nbsp;&nbsp;</span>What is the correlation coefficient between Area and Production?</a></span></li><li><span><a href=\"#The-crops-that-had-the-highest-production-(in-the-correct-order)-were?\" data-toc-modified-id=\"The-crops-that-had-the-highest-production-(in-the-correct-order)-were?-12\"><span class=\"toc-item-num\">12&nbsp;&nbsp;</span>The crops that had the highest production (in the correct order) were?</a></span></li><li><span><a href=\"#Which-is-the-only-crop-that-had-the-highest-production-during-the-autumn,-summer-and-winter-seasons?\" data-toc-modified-id=\"Which-is-the-only-crop-that-had-the-highest-production-during-the-autumn,-summer-and-winter-seasons?-13\"><span class=\"toc-item-num\">13&nbsp;&nbsp;</span>Which is the only crop that had the highest production during the autumn, summer and winter seasons?</a></span></li><li><span><a href=\"#REGRESSION\" data-toc-modified-id=\"REGRESSION-14\"><span class=\"toc-item-num\">14&nbsp;&nbsp;</span>REGRESSION</a></span></li><li><span><a href=\"#END-OF-SCRIPT\" data-toc-modified-id=\"END-OF-SCRIPT-15\"><span class=\"toc-item-num\">15&nbsp;&nbsp;</span>END OF SCRIPT</a></span></li></ul></div>"
   ]
  },
  {
   "cell_type": "code",
   "execution_count": 2,
   "metadata": {},
   "outputs": [],
   "source": [
    "import pandas as pd       # To work with dataframes\n",
    "import numpy as np        # Perform numerical operations\n",
    "import seaborn as sns     # Required for data visualization\n",
    "from sklearn.model_selection import train_test_split     # Required for dividing data into train and test set\n",
    "from sklearn.linear_model import LogisticRegression      # Import library for Logistic Regression\n",
    "from sklearn.metrics import accuracy_score, confusion_matrix  # Import performance matrix"
   ]
  },
  {
   "cell_type": "code",
   "execution_count": 9,
   "metadata": {},
   "outputs": [],
   "source": [
    "data = pd.read_csv('apy1.csv')"
   ]
  },
  {
   "cell_type": "code",
   "execution_count": 10,
   "metadata": {},
   "outputs": [
    {
     "data": {
      "text/plain": [
       "State_Name          0\n",
       "District_Name       0\n",
       "Crop_Year           0\n",
       "Season              0\n",
       "Crop                0\n",
       "Area                0\n",
       "Production       3730\n",
       "dtype: int64"
      ]
     },
     "execution_count": 10,
     "metadata": {},
     "output_type": "execute_result"
    }
   ],
   "source": [
    "data.isnull().sum()"
   ]
  },
  {
   "cell_type": "code",
   "execution_count": 11,
   "metadata": {},
   "outputs": [
    {
     "name": "stdout",
     "output_type": "stream",
     "text": [
      "<class 'pandas.core.frame.DataFrame'>\n",
      "RangeIndex: 246091 entries, 0 to 246090\n",
      "Data columns (total 7 columns):\n",
      " #   Column         Non-Null Count   Dtype  \n",
      "---  ------         --------------   -----  \n",
      " 0   State_Name     246091 non-null  object \n",
      " 1   District_Name  246091 non-null  object \n",
      " 2   Crop_Year      246091 non-null  int64  \n",
      " 3   Season         246091 non-null  object \n",
      " 4   Crop           246091 non-null  object \n",
      " 5   Area           246091 non-null  float64\n",
      " 6   Production     242361 non-null  float64\n",
      "dtypes: float64(2), int64(1), object(4)\n",
      "memory usage: 9.4+ MB\n"
     ]
    }
   ],
   "source": [
    "data.info()"
   ]
  },
  {
   "cell_type": "code",
   "execution_count": 12,
   "metadata": {},
   "outputs": [],
   "source": [
    "data1 = data.dropna(axis = 0)"
   ]
  },
  {
   "cell_type": "code",
   "execution_count": 13,
   "metadata": {},
   "outputs": [
    {
     "data": {
      "text/plain": [
       "State_Name       0\n",
       "District_Name    0\n",
       "Crop_Year        0\n",
       "Season           0\n",
       "Crop             0\n",
       "Area             0\n",
       "Production       0\n",
       "dtype: int64"
      ]
     },
     "execution_count": 13,
     "metadata": {},
     "output_type": "execute_result"
    }
   ],
   "source": [
    "data1.isnull().sum()"
   ]
  },
  {
   "cell_type": "code",
   "execution_count": 14,
   "metadata": {},
   "outputs": [],
   "source": [
    "pd.set_option('display.float_format', lambda x: '%.3f' %x)"
   ]
  },
  {
   "cell_type": "code",
   "execution_count": 15,
   "metadata": {},
   "outputs": [
    {
     "data": {
      "text/html": [
       "<div>\n",
       "<style scoped>\n",
       "    .dataframe tbody tr th:only-of-type {\n",
       "        vertical-align: middle;\n",
       "    }\n",
       "\n",
       "    .dataframe tbody tr th {\n",
       "        vertical-align: top;\n",
       "    }\n",
       "\n",
       "    .dataframe thead th {\n",
       "        text-align: right;\n",
       "    }\n",
       "</style>\n",
       "<table border=\"1\" class=\"dataframe\">\n",
       "  <thead>\n",
       "    <tr style=\"text-align: right;\">\n",
       "      <th></th>\n",
       "      <th>Crop_Year</th>\n",
       "      <th>Area</th>\n",
       "      <th>Production</th>\n",
       "    </tr>\n",
       "  </thead>\n",
       "  <tbody>\n",
       "    <tr>\n",
       "      <th>count</th>\n",
       "      <td>242361.000</td>\n",
       "      <td>242361.000</td>\n",
       "      <td>242361.000</td>\n",
       "    </tr>\n",
       "    <tr>\n",
       "      <th>mean</th>\n",
       "      <td>2005.626</td>\n",
       "      <td>12167.414</td>\n",
       "      <td>582503.442</td>\n",
       "    </tr>\n",
       "    <tr>\n",
       "      <th>std</th>\n",
       "      <td>4.958</td>\n",
       "      <td>50857.440</td>\n",
       "      <td>17065813.172</td>\n",
       "    </tr>\n",
       "    <tr>\n",
       "      <th>min</th>\n",
       "      <td>1997.000</td>\n",
       "      <td>0.100</td>\n",
       "      <td>0.000</td>\n",
       "    </tr>\n",
       "    <tr>\n",
       "      <th>25%</th>\n",
       "      <td>2002.000</td>\n",
       "      <td>87.000</td>\n",
       "      <td>88.000</td>\n",
       "    </tr>\n",
       "    <tr>\n",
       "      <th>50%</th>\n",
       "      <td>2006.000</td>\n",
       "      <td>603.000</td>\n",
       "      <td>729.000</td>\n",
       "    </tr>\n",
       "    <tr>\n",
       "      <th>75%</th>\n",
       "      <td>2010.000</td>\n",
       "      <td>4545.000</td>\n",
       "      <td>7023.000</td>\n",
       "    </tr>\n",
       "    <tr>\n",
       "      <th>max</th>\n",
       "      <td>2015.000</td>\n",
       "      <td>8580100.000</td>\n",
       "      <td>1250800000.000</td>\n",
       "    </tr>\n",
       "  </tbody>\n",
       "</table>\n",
       "</div>"
      ],
      "text/plain": [
       "       Crop_Year        Area     Production\n",
       "count 242361.000  242361.000     242361.000\n",
       "mean    2005.626   12167.414     582503.442\n",
       "std        4.958   50857.440   17065813.172\n",
       "min     1997.000       0.100          0.000\n",
       "25%     2002.000      87.000         88.000\n",
       "50%     2006.000     603.000        729.000\n",
       "75%     2010.000    4545.000       7023.000\n",
       "max     2015.000 8580100.000 1250800000.000"
      ]
     },
     "execution_count": 15,
     "metadata": {},
     "output_type": "execute_result"
    }
   ],
   "source": [
    "data1.describe()"
   ]
  },
  {
   "cell_type": "markdown",
   "metadata": {},
   "source": [
    "### Which of these crops were produced during the Autumn season? (select option with all that apply)"
   ]
  },
  {
   "cell_type": "code",
   "execution_count": 16,
   "metadata": {},
   "outputs": [],
   "source": [
    "d1=data1.pivot_table(index=['Crop'],columns=['Season'],values = ['Production'],aggfunc='sum')"
   ]
  },
  {
   "cell_type": "code",
   "execution_count": 17,
   "metadata": {},
   "outputs": [
    {
     "name": "stderr",
     "output_type": "stream",
     "text": [
      "<ipython-input-17-1390d13c0cdd>:4: FutureWarning: Passing a negative integer is deprecated in version 1.0 and will not be supported in future version. Instead, use None to not limit the column width.\n",
      "  pd.set_option('display.max_colwidth', -1)\n"
     ]
    }
   ],
   "source": [
    "pd.set_option('display.max_rows', None)\n",
    "pd.set_option('display.max_columns', None)\n",
    "pd.set_option('display.width', None)\n",
    "pd.set_option('display.max_colwidth', -1)"
   ]
  },
  {
   "cell_type": "code",
   "execution_count": 18,
   "metadata": {},
   "outputs": [],
   "source": [
    "d11= d1.iloc[:, d1.columns.get_level_values(1)== 'Autumn     ']"
   ]
  },
  {
   "cell_type": "code",
   "execution_count": 19,
   "metadata": {},
   "outputs": [],
   "source": [
    "d12 = d11.dropna(axis=0)"
   ]
  },
  {
   "cell_type": "code",
   "execution_count": 20,
   "metadata": {},
   "outputs": [
    {
     "data": {
      "text/html": [
       "<div>\n",
       "<style scoped>\n",
       "    .dataframe tbody tr th:only-of-type {\n",
       "        vertical-align: middle;\n",
       "    }\n",
       "\n",
       "    .dataframe tbody tr th {\n",
       "        vertical-align: top;\n",
       "    }\n",
       "\n",
       "    .dataframe thead tr th {\n",
       "        text-align: left;\n",
       "    }\n",
       "\n",
       "    .dataframe thead tr:last-of-type th {\n",
       "        text-align: right;\n",
       "    }\n",
       "</style>\n",
       "<table border=\"1\" class=\"dataframe\">\n",
       "  <thead>\n",
       "    <tr>\n",
       "      <th></th>\n",
       "      <th>Production</th>\n",
       "    </tr>\n",
       "    <tr>\n",
       "      <th>Season</th>\n",
       "      <th>Autumn</th>\n",
       "    </tr>\n",
       "    <tr>\n",
       "      <th>Crop</th>\n",
       "      <th></th>\n",
       "    </tr>\n",
       "  </thead>\n",
       "  <tbody>\n",
       "    <tr>\n",
       "      <th>Arhar/Tur</th>\n",
       "      <td>6487.000</td>\n",
       "    </tr>\n",
       "    <tr>\n",
       "      <th>Banana</th>\n",
       "      <td>16460.000</td>\n",
       "    </tr>\n",
       "    <tr>\n",
       "      <th>Cotton(lint)</th>\n",
       "      <td>20.000</td>\n",
       "    </tr>\n",
       "    <tr>\n",
       "      <th>Dry chillies</th>\n",
       "      <td>30790.000</td>\n",
       "    </tr>\n",
       "    <tr>\n",
       "      <th>Dry ginger</th>\n",
       "      <td>590.000</td>\n",
       "    </tr>\n",
       "    <tr>\n",
       "      <th>Groundnut</th>\n",
       "      <td>386670.700</td>\n",
       "    </tr>\n",
       "    <tr>\n",
       "      <th>Jowar</th>\n",
       "      <td>28.000</td>\n",
       "    </tr>\n",
       "    <tr>\n",
       "      <th>Jute</th>\n",
       "      <td>441559.900</td>\n",
       "    </tr>\n",
       "    <tr>\n",
       "      <th>Maize</th>\n",
       "      <td>8933033.650</td>\n",
       "    </tr>\n",
       "    <tr>\n",
       "      <th>Moong(Green Gram)</th>\n",
       "      <td>70298.700</td>\n",
       "    </tr>\n",
       "    <tr>\n",
       "      <th>Onion</th>\n",
       "      <td>120.000</td>\n",
       "    </tr>\n",
       "    <tr>\n",
       "      <th>Paddy</th>\n",
       "      <td>2034745.000</td>\n",
       "    </tr>\n",
       "    <tr>\n",
       "      <th>Peas &amp; beans (Pulses)</th>\n",
       "      <td>430.000</td>\n",
       "    </tr>\n",
       "    <tr>\n",
       "      <th>Potato</th>\n",
       "      <td>1670.000</td>\n",
       "    </tr>\n",
       "    <tr>\n",
       "      <th>Ragi</th>\n",
       "      <td>496919.580</td>\n",
       "    </tr>\n",
       "    <tr>\n",
       "      <th>Rice</th>\n",
       "      <td>51853755.540</td>\n",
       "    </tr>\n",
       "    <tr>\n",
       "      <th>Sannhamp</th>\n",
       "      <td>7810.000</td>\n",
       "    </tr>\n",
       "    <tr>\n",
       "      <th>Sesamum</th>\n",
       "      <td>18429.800</td>\n",
       "    </tr>\n",
       "    <tr>\n",
       "      <th>Small millets</th>\n",
       "      <td>2120.000</td>\n",
       "    </tr>\n",
       "    <tr>\n",
       "      <th>Soyabean</th>\n",
       "      <td>320.000</td>\n",
       "    </tr>\n",
       "    <tr>\n",
       "      <th>Sugarcane</th>\n",
       "      <td>13742.950</td>\n",
       "    </tr>\n",
       "    <tr>\n",
       "      <th>Sweet potato</th>\n",
       "      <td>180.000</td>\n",
       "    </tr>\n",
       "    <tr>\n",
       "      <th>Tapioca</th>\n",
       "      <td>130.000</td>\n",
       "    </tr>\n",
       "    <tr>\n",
       "      <th>Turmeric</th>\n",
       "      <td>70.000</td>\n",
       "    </tr>\n",
       "    <tr>\n",
       "      <th>Urad</th>\n",
       "      <td>97387.400</td>\n",
       "    </tr>\n",
       "  </tbody>\n",
       "</table>\n",
       "</div>"
      ],
      "text/plain": [
       "                        Production\n",
       "Season                 Autumn     \n",
       "Crop                              \n",
       "Arhar/Tur             6487.000    \n",
       "Banana                16460.000   \n",
       "Cotton(lint)          20.000      \n",
       "Dry chillies          30790.000   \n",
       "Dry ginger            590.000     \n",
       "Groundnut             386670.700  \n",
       "Jowar                 28.000      \n",
       "Jute                  441559.900  \n",
       "Maize                 8933033.650 \n",
       "Moong(Green Gram)     70298.700   \n",
       "Onion                 120.000     \n",
       "Paddy                 2034745.000 \n",
       "Peas & beans (Pulses) 430.000     \n",
       "Potato                1670.000    \n",
       "Ragi                  496919.580  \n",
       "Rice                  51853755.540\n",
       "Sannhamp              7810.000    \n",
       "Sesamum               18429.800   \n",
       "Small millets         2120.000    \n",
       "Soyabean              320.000     \n",
       "Sugarcane             13742.950   \n",
       "Sweet potato          180.000     \n",
       "Tapioca               130.000     \n",
       "Turmeric              70.000      \n",
       "Urad                  97387.400   "
      ]
     },
     "execution_count": 20,
     "metadata": {},
     "output_type": "execute_result"
    }
   ],
   "source": [
    "d12"
   ]
  },
  {
   "cell_type": "markdown",
   "metadata": {},
   "source": [
    "### During which year, Uttar Pradesh had the highest crop production?"
   ]
  },
  {
   "cell_type": "code",
   "execution_count": 26,
   "metadata": {},
   "outputs": [],
   "source": [
    "d2=data1.pivot_table(index=['Crop_Year'],columns=['State_Name'],values = ['Production'],aggfunc='sum')"
   ]
  },
  {
   "cell_type": "code",
   "execution_count": 27,
   "metadata": {},
   "outputs": [
    {
     "data": {
      "text/plain": [
       "Crop_Year\n",
       "2013   207615192.000\n",
       "2012   205230988.000\n",
       "Name: (Production, Uttar Pradesh), dtype: float64"
      ]
     },
     "execution_count": 27,
     "metadata": {},
     "output_type": "execute_result"
    }
   ],
   "source": [
    "d2['Production','Uttar Pradesh'].nlargest(2)"
   ]
  },
  {
   "cell_type": "markdown",
   "metadata": {},
   "source": [
    "### The maximum and minimum area used for production were in the years __"
   ]
  },
  {
   "cell_type": "code",
   "execution_count": 33,
   "metadata": {},
   "outputs": [],
   "source": [
    "d3=data1.pivot_table(index=['Crop_Year'],values = ['Area'],aggfunc='sum')"
   ]
  },
  {
   "cell_type": "code",
   "execution_count": 34,
   "metadata": {},
   "outputs": [
    {
     "data": {
      "text/plain": [
       "Crop_Year\n",
       "1997   231715046.000\n",
       "2010   176601791.780\n",
       "2008   170952985.000\n",
       "2006   170588792.650\n",
       "2003   169765517.540\n",
       "Name: Area, dtype: float64"
      ]
     },
     "execution_count": 34,
     "metadata": {},
     "output_type": "execute_result"
    }
   ],
   "source": [
    "d3['Area'].nlargest()"
   ]
  },
  {
   "cell_type": "code",
   "execution_count": 35,
   "metadata": {},
   "outputs": [
    {
     "data": {
      "text/plain": [
       "Crop_Year\n",
       "2015   4600298.000  \n",
       "2014   115743065.290\n",
       "2013   141501896.290\n",
       "2012   151698291.000\n",
       "2007   152688604.300\n",
       "Name: Area, dtype: float64"
      ]
     },
     "execution_count": 35,
     "metadata": {},
     "output_type": "execute_result"
    }
   ],
   "source": [
    "d3['Area'].nsmallest()"
   ]
  },
  {
   "cell_type": "markdown",
   "metadata": {},
   "source": [
    "### Which state in India had the lowest crop production? (overall, for all years)"
   ]
  },
  {
   "cell_type": "code",
   "execution_count": 36,
   "metadata": {},
   "outputs": [],
   "source": [
    "d4=data1.pivot_table(index=['State_Name'],values = ['Production'],aggfunc='sum')"
   ]
  },
  {
   "cell_type": "code",
   "execution_count": 37,
   "metadata": {},
   "outputs": [
    {
     "data": {
      "text/plain": [
       "State_Name\n",
       "Kerala           97880045375.700\n",
       "Andhra Pradesh   17324590296.000\n",
       "Tamil Nadu       12076443048.930\n",
       "Uttar Pradesh    3234492662.700 \n",
       "Assam            2111751759.000 \n",
       "Name: Production, dtype: float64"
      ]
     },
     "execution_count": 37,
     "metadata": {},
     "output_type": "execute_result"
    }
   ],
   "source": [
    "d4['Production'].nlargest()"
   ]
  },
  {
   "cell_type": "code",
   "execution_count": 38,
   "metadata": {},
   "outputs": [
    {
     "data": {
      "text/plain": [
       "State_Name\n",
       "Chandigarh               63956.500  \n",
       "Mizoram                  1661539.830\n",
       "Dadra and Nagar Haveli   1847871.000\n",
       "Sikkim                   2435735.000\n",
       "Manipur                  5230917.000\n",
       "Name: Production, dtype: float64"
      ]
     },
     "execution_count": 38,
     "metadata": {},
     "output_type": "execute_result"
    }
   ],
   "source": [
    "d4['Production'].nsmallest()"
   ]
  },
  {
   "cell_type": "markdown",
   "metadata": {},
   "source": [
    "### What were the top three produced crops in the year 2015?"
   ]
  },
  {
   "cell_type": "code",
   "execution_count": 39,
   "metadata": {},
   "outputs": [],
   "source": [
    "d5=data1.pivot_table(index=['Crop'],columns=['Crop_Year'],values = ['Production'],aggfunc='sum')"
   ]
  },
  {
   "cell_type": "code",
   "execution_count": 41,
   "metadata": {},
   "outputs": [
    {
     "data": {
      "text/plain": [
       "Crop\n",
       "Rice        5893687.000\n",
       "Sugarcane   577157.200 \n",
       "Maize       179286.900 \n",
       "Name: (Production, 2015), dtype: float64"
      ]
     },
     "execution_count": 41,
     "metadata": {},
     "output_type": "execute_result"
    }
   ],
   "source": [
    "d5['Production',2015].nlargest(3)"
   ]
  },
  {
   "cell_type": "markdown",
   "metadata": {},
   "source": [
    "### What is the standard deviation for Area of production?"
   ]
  },
  {
   "cell_type": "code",
   "execution_count": 42,
   "metadata": {},
   "outputs": [
    {
     "data": {
      "text/html": [
       "<div>\n",
       "<style scoped>\n",
       "    .dataframe tbody tr th:only-of-type {\n",
       "        vertical-align: middle;\n",
       "    }\n",
       "\n",
       "    .dataframe tbody tr th {\n",
       "        vertical-align: top;\n",
       "    }\n",
       "\n",
       "    .dataframe thead th {\n",
       "        text-align: right;\n",
       "    }\n",
       "</style>\n",
       "<table border=\"1\" class=\"dataframe\">\n",
       "  <thead>\n",
       "    <tr style=\"text-align: right;\">\n",
       "      <th></th>\n",
       "      <th>Crop_Year</th>\n",
       "      <th>Area</th>\n",
       "      <th>Production</th>\n",
       "    </tr>\n",
       "  </thead>\n",
       "  <tbody>\n",
       "    <tr>\n",
       "      <th>count</th>\n",
       "      <td>246091.000</td>\n",
       "      <td>246091.000</td>\n",
       "      <td>242361.000</td>\n",
       "    </tr>\n",
       "    <tr>\n",
       "      <th>mean</th>\n",
       "      <td>2005.643</td>\n",
       "      <td>12002.821</td>\n",
       "      <td>582503.442</td>\n",
       "    </tr>\n",
       "    <tr>\n",
       "      <th>std</th>\n",
       "      <td>4.952</td>\n",
       "      <td>50523.404</td>\n",
       "      <td>17065813.172</td>\n",
       "    </tr>\n",
       "    <tr>\n",
       "      <th>min</th>\n",
       "      <td>1997.000</td>\n",
       "      <td>0.040</td>\n",
       "      <td>0.000</td>\n",
       "    </tr>\n",
       "    <tr>\n",
       "      <th>25%</th>\n",
       "      <td>2002.000</td>\n",
       "      <td>80.000</td>\n",
       "      <td>88.000</td>\n",
       "    </tr>\n",
       "    <tr>\n",
       "      <th>50%</th>\n",
       "      <td>2006.000</td>\n",
       "      <td>582.000</td>\n",
       "      <td>729.000</td>\n",
       "    </tr>\n",
       "    <tr>\n",
       "      <th>75%</th>\n",
       "      <td>2010.000</td>\n",
       "      <td>4392.000</td>\n",
       "      <td>7023.000</td>\n",
       "    </tr>\n",
       "    <tr>\n",
       "      <th>max</th>\n",
       "      <td>2015.000</td>\n",
       "      <td>8580100.000</td>\n",
       "      <td>1250800000.000</td>\n",
       "    </tr>\n",
       "  </tbody>\n",
       "</table>\n",
       "</div>"
      ],
      "text/plain": [
       "       Crop_Year        Area     Production\n",
       "count 246091.000 246091.000  242361.000    \n",
       "mean  2005.643   12002.821   582503.442    \n",
       "std   4.952      50523.404   17065813.172  \n",
       "min   1997.000   0.040       0.000         \n",
       "25%   2002.000   80.000      88.000        \n",
       "50%   2006.000   582.000     729.000       \n",
       "75%   2010.000   4392.000    7023.000      \n",
       "max   2015.000   8580100.000 1250800000.000"
      ]
     },
     "execution_count": 42,
     "metadata": {},
     "output_type": "execute_result"
    }
   ],
   "source": [
    "data.describe()"
   ]
  },
  {
   "cell_type": "code",
   "execution_count": 43,
   "metadata": {},
   "outputs": [
    {
     "data": {
      "text/html": [
       "<div>\n",
       "<style scoped>\n",
       "    .dataframe tbody tr th:only-of-type {\n",
       "        vertical-align: middle;\n",
       "    }\n",
       "\n",
       "    .dataframe tbody tr th {\n",
       "        vertical-align: top;\n",
       "    }\n",
       "\n",
       "    .dataframe thead th {\n",
       "        text-align: right;\n",
       "    }\n",
       "</style>\n",
       "<table border=\"1\" class=\"dataframe\">\n",
       "  <thead>\n",
       "    <tr style=\"text-align: right;\">\n",
       "      <th></th>\n",
       "      <th>Crop_Year</th>\n",
       "      <th>Area</th>\n",
       "      <th>Production</th>\n",
       "    </tr>\n",
       "  </thead>\n",
       "  <tbody>\n",
       "    <tr>\n",
       "      <th>count</th>\n",
       "      <td>242361.000</td>\n",
       "      <td>242361.000</td>\n",
       "      <td>242361.000</td>\n",
       "    </tr>\n",
       "    <tr>\n",
       "      <th>mean</th>\n",
       "      <td>2005.626</td>\n",
       "      <td>12167.414</td>\n",
       "      <td>582503.442</td>\n",
       "    </tr>\n",
       "    <tr>\n",
       "      <th>std</th>\n",
       "      <td>4.958</td>\n",
       "      <td>50857.440</td>\n",
       "      <td>17065813.172</td>\n",
       "    </tr>\n",
       "    <tr>\n",
       "      <th>min</th>\n",
       "      <td>1997.000</td>\n",
       "      <td>0.100</td>\n",
       "      <td>0.000</td>\n",
       "    </tr>\n",
       "    <tr>\n",
       "      <th>25%</th>\n",
       "      <td>2002.000</td>\n",
       "      <td>87.000</td>\n",
       "      <td>88.000</td>\n",
       "    </tr>\n",
       "    <tr>\n",
       "      <th>50%</th>\n",
       "      <td>2006.000</td>\n",
       "      <td>603.000</td>\n",
       "      <td>729.000</td>\n",
       "    </tr>\n",
       "    <tr>\n",
       "      <th>75%</th>\n",
       "      <td>2010.000</td>\n",
       "      <td>4545.000</td>\n",
       "      <td>7023.000</td>\n",
       "    </tr>\n",
       "    <tr>\n",
       "      <th>max</th>\n",
       "      <td>2015.000</td>\n",
       "      <td>8580100.000</td>\n",
       "      <td>1250800000.000</td>\n",
       "    </tr>\n",
       "  </tbody>\n",
       "</table>\n",
       "</div>"
      ],
      "text/plain": [
       "       Crop_Year        Area     Production\n",
       "count 242361.000 242361.000  242361.000    \n",
       "mean  2005.626   12167.414   582503.442    \n",
       "std   4.958      50857.440   17065813.172  \n",
       "min   1997.000   0.100       0.000         \n",
       "25%   2002.000   87.000      88.000        \n",
       "50%   2006.000   603.000     729.000       \n",
       "75%   2010.000   4545.000    7023.000      \n",
       "max   2015.000   8580100.000 1250800000.000"
      ]
     },
     "execution_count": 43,
     "metadata": {},
     "output_type": "execute_result"
    }
   ],
   "source": [
    "data1.describe()"
   ]
  },
  {
   "cell_type": "markdown",
   "metadata": {},
   "source": [
    "### Which is the crop that gave highest production to the state Madhya Pradesh?"
   ]
  },
  {
   "cell_type": "code",
   "execution_count": 44,
   "metadata": {},
   "outputs": [],
   "source": [
    "d6=data1.pivot_table(index=['Crop'],columns=['State_Name'],values = ['Production'],aggfunc='sum')"
   ]
  },
  {
   "cell_type": "code",
   "execution_count": 45,
   "metadata": {},
   "outputs": [
    {
     "data": {
      "text/plain": [
       "Crop\n",
       "Wheat      147153856.000\n",
       "Soyabean   85273955.000 \n",
       "Gram       39030407.000 \n",
       "Name: (Production, Madhya Pradesh), dtype: float64"
      ]
     },
     "execution_count": 45,
     "metadata": {},
     "output_type": "execute_result"
    }
   ],
   "source": [
    "d6['Production','Madhya Pradesh'].nlargest(3)"
   ]
  },
  {
   "cell_type": "markdown",
   "metadata": {},
   "source": [
    "### Which of the following statements is true? (Select all that applies)"
   ]
  },
  {
   "cell_type": "code",
   "execution_count": 46,
   "metadata": {},
   "outputs": [],
   "source": [
    "d7 =data1.pivot_table(index=['Season'],values = ['Production'],aggfunc='sum')"
   ]
  },
  {
   "cell_type": "code",
   "execution_count": 47,
   "metadata": {},
   "outputs": [
    {
     "data": {
      "text/html": [
       "<div>\n",
       "<style scoped>\n",
       "    .dataframe tbody tr th:only-of-type {\n",
       "        vertical-align: middle;\n",
       "    }\n",
       "\n",
       "    .dataframe tbody tr th {\n",
       "        vertical-align: top;\n",
       "    }\n",
       "\n",
       "    .dataframe thead th {\n",
       "        text-align: right;\n",
       "    }\n",
       "</style>\n",
       "<table border=\"1\" class=\"dataframe\">\n",
       "  <thead>\n",
       "    <tr style=\"text-align: right;\">\n",
       "      <th></th>\n",
       "      <th>Production</th>\n",
       "    </tr>\n",
       "    <tr>\n",
       "      <th>Season</th>\n",
       "      <th></th>\n",
       "    </tr>\n",
       "  </thead>\n",
       "  <tbody>\n",
       "    <tr>\n",
       "      <th>Autumn</th>\n",
       "      <td>64413768.220</td>\n",
       "    </tr>\n",
       "    <tr>\n",
       "      <th>Kharif</th>\n",
       "      <td>4029970242.700</td>\n",
       "    </tr>\n",
       "    <tr>\n",
       "      <th>Rabi</th>\n",
       "      <td>2051687553.080</td>\n",
       "    </tr>\n",
       "    <tr>\n",
       "      <th>Summer</th>\n",
       "      <td>170657925.030</td>\n",
       "    </tr>\n",
       "    <tr>\n",
       "      <th>Whole Year</th>\n",
       "      <td>134424837450.190</td>\n",
       "    </tr>\n",
       "    <tr>\n",
       "      <th>Winter</th>\n",
       "      <td>434549828.170</td>\n",
       "    </tr>\n",
       "  </tbody>\n",
       "</table>\n",
       "</div>"
      ],
      "text/plain": [
       "                  Production\n",
       "Season                      \n",
       "Autumn      64413768.220    \n",
       "Kharif      4029970242.700  \n",
       "Rabi        2051687553.080  \n",
       "Summer      170657925.030   \n",
       "Whole Year  134424837450.190\n",
       "Winter      434549828.170   "
      ]
     },
     "execution_count": 47,
     "metadata": {},
     "output_type": "execute_result"
    }
   ],
   "source": [
    "d7"
   ]
  },
  {
   "cell_type": "markdown",
   "metadata": {},
   "source": [
    "### Which state had the highest area of production?"
   ]
  },
  {
   "cell_type": "code",
   "execution_count": 50,
   "metadata": {},
   "outputs": [],
   "source": [
    "d8 =data1.pivot_table(index=['State_Name'],values = ['Area'],aggfunc='sum')"
   ]
  },
  {
   "cell_type": "code",
   "execution_count": 52,
   "metadata": {},
   "outputs": [
    {
     "data": {
      "text/plain": [
       "State_Name\n",
       "Uttar Pradesh    433622332.000\n",
       "Madhya Pradesh   329791261.000\n",
       "Maharashtra      322186037.000\n",
       "Name: Area, dtype: float64"
      ]
     },
     "execution_count": 52,
     "metadata": {},
     "output_type": "execute_result"
    }
   ],
   "source": [
    "d8['Area'].nlargest(3)"
   ]
  },
  {
   "cell_type": "markdown",
   "metadata": {},
   "source": [
    "### What is the mean for area of production?"
   ]
  },
  {
   "cell_type": "code",
   "execution_count": 53,
   "metadata": {},
   "outputs": [
    {
     "data": {
      "text/html": [
       "<div>\n",
       "<style scoped>\n",
       "    .dataframe tbody tr th:only-of-type {\n",
       "        vertical-align: middle;\n",
       "    }\n",
       "\n",
       "    .dataframe tbody tr th {\n",
       "        vertical-align: top;\n",
       "    }\n",
       "\n",
       "    .dataframe thead th {\n",
       "        text-align: right;\n",
       "    }\n",
       "</style>\n",
       "<table border=\"1\" class=\"dataframe\">\n",
       "  <thead>\n",
       "    <tr style=\"text-align: right;\">\n",
       "      <th></th>\n",
       "      <th>Crop_Year</th>\n",
       "      <th>Area</th>\n",
       "      <th>Production</th>\n",
       "    </tr>\n",
       "  </thead>\n",
       "  <tbody>\n",
       "    <tr>\n",
       "      <th>count</th>\n",
       "      <td>242361.000</td>\n",
       "      <td>242361.000</td>\n",
       "      <td>242361.000</td>\n",
       "    </tr>\n",
       "    <tr>\n",
       "      <th>mean</th>\n",
       "      <td>2005.626</td>\n",
       "      <td>12167.414</td>\n",
       "      <td>582503.442</td>\n",
       "    </tr>\n",
       "    <tr>\n",
       "      <th>std</th>\n",
       "      <td>4.958</td>\n",
       "      <td>50857.440</td>\n",
       "      <td>17065813.172</td>\n",
       "    </tr>\n",
       "    <tr>\n",
       "      <th>min</th>\n",
       "      <td>1997.000</td>\n",
       "      <td>0.100</td>\n",
       "      <td>0.000</td>\n",
       "    </tr>\n",
       "    <tr>\n",
       "      <th>25%</th>\n",
       "      <td>2002.000</td>\n",
       "      <td>87.000</td>\n",
       "      <td>88.000</td>\n",
       "    </tr>\n",
       "    <tr>\n",
       "      <th>50%</th>\n",
       "      <td>2006.000</td>\n",
       "      <td>603.000</td>\n",
       "      <td>729.000</td>\n",
       "    </tr>\n",
       "    <tr>\n",
       "      <th>75%</th>\n",
       "      <td>2010.000</td>\n",
       "      <td>4545.000</td>\n",
       "      <td>7023.000</td>\n",
       "    </tr>\n",
       "    <tr>\n",
       "      <th>max</th>\n",
       "      <td>2015.000</td>\n",
       "      <td>8580100.000</td>\n",
       "      <td>1250800000.000</td>\n",
       "    </tr>\n",
       "  </tbody>\n",
       "</table>\n",
       "</div>"
      ],
      "text/plain": [
       "       Crop_Year        Area     Production\n",
       "count 242361.000 242361.000  242361.000    \n",
       "mean  2005.626   12167.414   582503.442    \n",
       "std   4.958      50857.440   17065813.172  \n",
       "min   1997.000   0.100       0.000         \n",
       "25%   2002.000   87.000      88.000        \n",
       "50%   2006.000   603.000     729.000       \n",
       "75%   2010.000   4545.000    7023.000      \n",
       "max   2015.000   8580100.000 1250800000.000"
      ]
     },
     "execution_count": 53,
     "metadata": {},
     "output_type": "execute_result"
    }
   ],
   "source": [
    "data1.describe()"
   ]
  },
  {
   "cell_type": "markdown",
   "metadata": {},
   "source": [
    "### What is the correlation coefficient between Area and Production?"
   ]
  },
  {
   "cell_type": "code",
   "execution_count": 54,
   "metadata": {},
   "outputs": [],
   "source": [
    "correlation = data1.corr()"
   ]
  },
  {
   "cell_type": "code",
   "execution_count": 55,
   "metadata": {},
   "outputs": [
    {
     "data": {
      "text/html": [
       "<div>\n",
       "<style scoped>\n",
       "    .dataframe tbody tr th:only-of-type {\n",
       "        vertical-align: middle;\n",
       "    }\n",
       "\n",
       "    .dataframe tbody tr th {\n",
       "        vertical-align: top;\n",
       "    }\n",
       "\n",
       "    .dataframe thead th {\n",
       "        text-align: right;\n",
       "    }\n",
       "</style>\n",
       "<table border=\"1\" class=\"dataframe\">\n",
       "  <thead>\n",
       "    <tr style=\"text-align: right;\">\n",
       "      <th></th>\n",
       "      <th>Crop_Year</th>\n",
       "      <th>Area</th>\n",
       "      <th>Production</th>\n",
       "    </tr>\n",
       "  </thead>\n",
       "  <tbody>\n",
       "    <tr>\n",
       "      <th>Crop_Year</th>\n",
       "      <td>1.000</td>\n",
       "      <td>-0.025</td>\n",
       "      <td>0.007</td>\n",
       "    </tr>\n",
       "    <tr>\n",
       "      <th>Area</th>\n",
       "      <td>-0.025</td>\n",
       "      <td>1.000</td>\n",
       "      <td>0.041</td>\n",
       "    </tr>\n",
       "    <tr>\n",
       "      <th>Production</th>\n",
       "      <td>0.007</td>\n",
       "      <td>0.041</td>\n",
       "      <td>1.000</td>\n",
       "    </tr>\n",
       "  </tbody>\n",
       "</table>\n",
       "</div>"
      ],
      "text/plain": [
       "            Crop_Year   Area  Production\n",
       "Crop_Year  1.000      -0.025 0.007      \n",
       "Area       -0.025     1.000  0.041      \n",
       "Production 0.007      0.041  1.000      "
      ]
     },
     "execution_count": 55,
     "metadata": {},
     "output_type": "execute_result"
    }
   ],
   "source": [
    "correlation"
   ]
  },
  {
   "cell_type": "markdown",
   "metadata": {},
   "source": [
    "### The crops that had the highest production (in the correct order) were?"
   ]
  },
  {
   "cell_type": "code",
   "execution_count": 56,
   "metadata": {},
   "outputs": [],
   "source": [
    "d9 =data1.pivot_table(index=['Crop'],values = ['Production'],aggfunc='sum')"
   ]
  },
  {
   "cell_type": "code",
   "execution_count": 59,
   "metadata": {},
   "outputs": [
    {
     "data": {
      "text/plain": [
       "Crop\n",
       "Coconut        129981629216.290\n",
       "Sugarcane      5535681525.920  \n",
       "Rice           1605470383.370  \n",
       "Wheat          1332825656.800  \n",
       "Potato         424826343.860   \n",
       "Cotton(lint)   297000015.700   \n",
       "Name: Production, dtype: float64"
      ]
     },
     "execution_count": 59,
     "metadata": {},
     "output_type": "execute_result"
    }
   ],
   "source": [
    "d9['Production'].nlargest(6)"
   ]
  },
  {
   "cell_type": "markdown",
   "metadata": {},
   "source": [
    "### Which is the only crop that had the highest production during the autumn, summer and winter seasons?"
   ]
  },
  {
   "cell_type": "code",
   "execution_count": 62,
   "metadata": {},
   "outputs": [],
   "source": [
    "d10 =data1.pivot_table(index=['Crop'],columns = ['Season'], values = ['Production'],aggfunc='sum')"
   ]
  },
  {
   "cell_type": "code",
   "execution_count": 63,
   "metadata": {},
   "outputs": [
    {
     "data": {
      "text/plain": [
       "MultiIndex([('Production', 'Autumn     '),\n",
       "            ('Production', 'Kharif     '),\n",
       "            ('Production', 'Rabi       '),\n",
       "            ('Production', 'Summer     '),\n",
       "            ('Production', 'Whole Year '),\n",
       "            ('Production', 'Winter     ')],\n",
       "           names=[None, 'Season'])"
      ]
     },
     "execution_count": 63,
     "metadata": {},
     "output_type": "execute_result"
    }
   ],
   "source": [
    "d10.columns"
   ]
  },
  {
   "cell_type": "code",
   "execution_count": 67,
   "metadata": {},
   "outputs": [
    {
     "data": {
      "text/plain": [
       "Crop\n",
       "Rice    51853755.540\n",
       "Maize   8933033.650 \n",
       "Paddy   2034745.000 \n",
       "Ragi    496919.580  \n",
       "Jute    441559.900  \n",
       "Name: (Production, Autumn     ), dtype: float64"
      ]
     },
     "execution_count": 67,
     "metadata": {},
     "output_type": "execute_result"
    }
   ],
   "source": [
    "d10['Production','Autumn     '].nlargest()"
   ]
  },
  {
   "cell_type": "code",
   "execution_count": 68,
   "metadata": {},
   "outputs": [
    {
     "data": {
      "text/plain": [
       "Crop\n",
       "Rice        127702773.530\n",
       "Maize       13924212.200 \n",
       "Bajra       7436768.000  \n",
       "Groundnut   6827896.600  \n",
       "Paddy       5110559.000  \n",
       "Name: (Production, Summer     ), dtype: float64"
      ]
     },
     "execution_count": 68,
     "metadata": {},
     "output_type": "execute_result"
    }
   ],
   "source": [
    "d10['Production','Summer     '].nlargest()"
   ]
  },
  {
   "cell_type": "code",
   "execution_count": 69,
   "metadata": {},
   "outputs": [
    {
     "data": {
      "text/plain": [
       "Crop\n",
       "Rice        381569485.450\n",
       "Paddy       19318040.000 \n",
       "Potato      16102739.020 \n",
       "Sugarcane   16017238.700 \n",
       "Urad        369635.900   \n",
       "Name: (Production, Winter     ), dtype: float64"
      ]
     },
     "execution_count": 69,
     "metadata": {},
     "output_type": "execute_result"
    }
   ],
   "source": [
    "d10['Production','Winter     '].nlargest()"
   ]
  },
  {
   "cell_type": "markdown",
   "metadata": {},
   "source": [
    "### REGRESSION"
   ]
  },
  {
   "cell_type": "code",
   "execution_count": 70,
   "metadata": {},
   "outputs": [],
   "source": [
    "col = ['State_Name','District_Name','Crop_Year','Season','Crop']"
   ]
  },
  {
   "cell_type": "code",
   "execution_count": 71,
   "metadata": {},
   "outputs": [],
   "source": [
    "data2 = data1.drop(columns = col, axis =1)"
   ]
  },
  {
   "cell_type": "code",
   "execution_count": 72,
   "metadata": {},
   "outputs": [],
   "source": [
    "from sklearn.model_selection import train_test_split     # Required for dividing data into train and test set\n",
    "from sklearn.linear_model import LinearRegression      # Import library for Linear Regression\n",
    "from sklearn.ensemble import RandomForestRegressor\n",
    "from sklearn.metrics import mean_squared_error"
   ]
  },
  {
   "cell_type": "code",
   "execution_count": 73,
   "metadata": {},
   "outputs": [],
   "source": [
    "x2 = data2['Area']\n",
    "y2 = data2['Production']"
   ]
  },
  {
   "cell_type": "code",
   "execution_count": 74,
   "metadata": {},
   "outputs": [],
   "source": [
    "import numpy as np"
   ]
  },
  {
   "cell_type": "code",
   "execution_count": 75,
   "metadata": {},
   "outputs": [
    {
     "name": "stdout",
     "output_type": "stream",
     "text": [
      "(169652,) (72709,) (169652,) (72709,)\n"
     ]
    }
   ],
   "source": [
    "train_x,test_x,train_y,test_y = train_test_split(x2,y2,test_size=0.3,random_state=42)\n",
    "print(train_x.shape,test_x.shape,train_y.shape,test_y.shape)"
   ]
  },
  {
   "cell_type": "code",
   "execution_count": 76,
   "metadata": {},
   "outputs": [],
   "source": [
    "train_x = train_x.values.reshape(-1,1)\n",
    "train_y = train_y.values.reshape(-1,1)"
   ]
  },
  {
   "cell_type": "code",
   "execution_count": 77,
   "metadata": {},
   "outputs": [],
   "source": [
    "test_x= test_x.values.reshape(-1,1)"
   ]
  },
  {
   "cell_type": "code",
   "execution_count": 78,
   "metadata": {},
   "outputs": [],
   "source": [
    "test_y= test_y.values.reshape(-1,1)"
   ]
  },
  {
   "cell_type": "code",
   "execution_count": 79,
   "metadata": {},
   "outputs": [
    {
     "data": {
      "text/plain": [
       "array([627815.30960775, 627815.30960775, 627815.30960775, ...,\n",
       "       627815.30960775, 627815.30960775, 627815.30960775])"
      ]
     },
     "execution_count": 79,
     "metadata": {},
     "output_type": "execute_result"
    }
   ],
   "source": [
    "base_pred = np.mean(test_y)\n",
    "base_pred = np.repeat(base_pred, len(test_y))\n",
    "base_pred"
   ]
  },
  {
   "cell_type": "code",
   "execution_count": 80,
   "metadata": {},
   "outputs": [
    {
     "name": "stdout",
     "output_type": "stream",
     "text": [
      "18547444.718332194\n"
     ]
    }
   ],
   "source": [
    "base_RMSE = np.sqrt(mean_squared_error(test_y,base_pred))\n",
    "print(base_RMSE)"
   ]
  },
  {
   "cell_type": "code",
   "execution_count": 81,
   "metadata": {},
   "outputs": [
    {
     "name": "stdout",
     "output_type": "stream",
     "text": [
      "18529629.51147644\n"
     ]
    }
   ],
   "source": [
    "lgr = LinearRegression(fit_intercept = True)\n",
    "model_lin1 = lgr.fit(train_x,train_y)\n",
    "nyc_pred = lgr.predict(test_x) \n",
    "lin_MSE = mean_squared_error(test_y,nyc_pred)\n",
    "lin_RMSE = np.sqrt(lin_MSE)\n",
    "print(lin_RMSE)"
   ]
  },
  {
   "cell_type": "code",
   "execution_count": 82,
   "metadata": {},
   "outputs": [
    {
     "name": "stdout",
     "output_type": "stream",
     "text": [
      "343347169832578.56\n"
     ]
    }
   ],
   "source": [
    "print(lin_MSE)"
   ]
  },
  {
   "cell_type": "code",
   "execution_count": 83,
   "metadata": {},
   "outputs": [],
   "source": [
    "from sklearn.metrics import mean_absolute_error"
   ]
  },
  {
   "cell_type": "code",
   "execution_count": 84,
   "metadata": {},
   "outputs": [],
   "source": [
    "mae=mean_absolute_error(test_y,nyc_pred)"
   ]
  },
  {
   "cell_type": "code",
   "execution_count": 85,
   "metadata": {},
   "outputs": [
    {
     "name": "stdout",
     "output_type": "stream",
     "text": [
      "1121707.916712476\n"
     ]
    }
   ],
   "source": [
    "print(mae)"
   ]
  },
  {
   "cell_type": "markdown",
   "metadata": {},
   "source": [
    "### END OF SCRIPT"
   ]
  },
  {
   "cell_type": "code",
   "execution_count": null,
   "metadata": {},
   "outputs": [],
   "source": []
  }
 ],
 "metadata": {
  "kernelspec": {
   "display_name": "Python 3",
   "language": "python",
   "name": "python3"
  },
  "language_info": {
   "codemirror_mode": {
    "name": "ipython",
    "version": 3
   },
   "file_extension": ".py",
   "mimetype": "text/x-python",
   "name": "python",
   "nbconvert_exporter": "python",
   "pygments_lexer": "ipython3",
   "version": "3.8.5"
  },
  "toc": {
   "base_numbering": 1,
   "nav_menu": {},
   "number_sections": true,
   "sideBar": true,
   "skip_h1_title": false,
   "title_cell": "Table of Contents",
   "title_sidebar": "Contents",
   "toc_cell": true,
   "toc_position": {},
   "toc_section_display": true,
   "toc_window_display": true
  }
 },
 "nbformat": 4,
 "nbformat_minor": 4
}
